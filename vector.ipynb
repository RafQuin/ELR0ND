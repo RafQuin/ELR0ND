{
  "nbformat": 4,
  "nbformat_minor": 0,
  "metadata": {
    "colab": {
      "provenance": [],
      "authorship_tag": "ABX9TyMpBEpr0PKJX5HophOk/u62",
      "include_colab_link": true
    },
    "kernelspec": {
      "name": "python3",
      "display_name": "Python 3"
    },
    "language_info": {
      "name": "python"
    }
  },
  "cells": [
    {
      "cell_type": "markdown",
      "metadata": {
        "id": "view-in-github",
        "colab_type": "text"
      },
      "source": [
        "<a href=\"https://colab.research.google.com/github/RafQuin/ELR0ND/blob/master/vector.ipynb\" target=\"_parent\"><img src=\"https://colab.research.google.com/assets/colab-badge.svg\" alt=\"Open In Colab\"/></a>"
      ]
    },
    {
      "cell_type": "code",
      "execution_count": null,
      "metadata": {
        "colab": {
          "base_uri": "https://localhost:8080/"
        },
        "id": "Zs6dSplMDwWR",
        "outputId": "359bcec1-9447-4549-91b6-020391ae27c7"
      },
      "outputs": [
        {
          "output_type": "stream",
          "name": "stdout",
          "text": [
            "vector de medias:\n",
            " [[2.83]\n",
            " [1.67]]\n",
            "producto escalar: 13.67\n",
            "modulo 1: 5.55\n",
            "modulo 2: 4.83\n",
            "modulo 1: 5.55\n",
            "modulo 2: 4.83\n",
            "cos(θ): 0.51\n"
          ]
        }
      ],
      "source": [
        "import numpy as np\n",
        "X=np.array([[2,7,0,1,3,4],\n",
        "            [1,5,3,-1,2,0]])\n",
        "#vector columna de unos (6x1)\n",
        "unos=np.ones((6,1))\n",
        "#numero de columnas\n",
        "n=X.shape[1]\n",
        "# calculo de la media\n",
        "med=(1/n)*np.dot(X,unos)\n",
        "print(\"vector de medias:\\n\",np.round(med,2))\n",
        "\n",
        "#calculamos el producto escalar\n",
        "# med1\n",
        "med1=np.mean(X[0])\n",
        "# med2\n",
        "med2=np.mean(X[1])\n",
        "res1=X[0]-med1\n",
        "res2=X[1]-med2\n",
        "proe=np.dot(res1,res2)\n",
        "print(\"producto escalar:\",np.round(proe,2))\n",
        "#modulo1\n",
        "nor1=np.sqrt(np.sum(res1**2))\n",
        "#modulo2\n",
        "nor2=np.sqrt(np.sum(res2**2))\n",
        "#segunda alternativa\n",
        "norr1=np.linalg.norm(res1)\n",
        "norr2=np.linalg.norm(res2)\n",
        "print(\"modulo 1:\",np.round(nor1,2))\n",
        "print(\"modulo 2:\",np.round(nor2,2))\n",
        "print(\"modulo 1:\",np.round(norr1,2))\n",
        "print(\"modulo 2:\",np.round(norr2,2))\n",
        "cos=proe/(nor1*nor2)\n",
        "print(\"cos(\\u03b8):\",np.round(cos,2))"
      ]
    },
    {
      "cell_type": "markdown",
      "source": [
        "haciendo la prueba si va todo lo trabajado a github"
      ],
      "metadata": {
        "id": "FdG190cSv0Qt"
      }
    },
    {
      "cell_type": "code",
      "source": [
        "import numpy as np\n",
        "print(\"hola mundo\")"
      ],
      "metadata": {
        "colab": {
          "base_uri": "https://localhost:8080/"
        },
        "id": "JwL4MgWNv9d3",
        "outputId": "34b1dfa1-129e-4548-8166-64fd7edfe600"
      },
      "execution_count": null,
      "outputs": [
        {
          "output_type": "stream",
          "name": "stdout",
          "text": [
            "hola mundo\n"
          ]
        }
      ]
    },
    {
      "cell_type": "code",
      "source": [
        "import numpy as np\n",
        "a=np.array([[-1,-1,-1],\n",
        "            [0,1,0],\n",
        "            [0,0,1]])\n",
        "i=np.dot(a,a)\n",
        "print(\"la matriz A es involutiva si\\n \",i)"
      ],
      "metadata": {
        "colab": {
          "base_uri": "https://localhost:8080/"
        },
        "id": "RSKof3s7_aOr",
        "outputId": "9c7d0534-e3e4-470e-baf6-d09d1be9287e"
      },
      "execution_count": null,
      "outputs": [
        {
          "output_type": "stream",
          "name": "stdout",
          "text": [
            "la matriz A es involutiva si\n",
            "  [[1 0 0]\n",
            " [0 1 0]\n",
            " [0 0 1]]\n"
          ]
        }
      ]
    }
  ]
}